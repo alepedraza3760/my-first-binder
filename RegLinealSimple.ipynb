{
  "metadata": {
    "language_info": {
      "name": "python",
      "version": "3.10.12",
      "mimetype": "text/x-python",
      "codemirror_mode": {
        "name": "ipython",
        "version": 3
      },
      "pygments_lexer": "ipython3",
      "nbconvert_exporter": "python",
      "file_extension": ".py"
    },
    "kernelspec": {
      "name": "python3",
      "display_name": "Python 3 (ipykernel)",
      "language": "python"
    },
    "colab": {
      "provenance": [],
      "include_colab_link": true
    }
  },
  "nbformat_minor": 5,
  "nbformat": 4,
  "cells": [
    {
      "cell_type": "markdown",
      "metadata": {
        "id": "view-in-github",
        "colab_type": "text"
      },
      "source": [
        "<a href=\"https://colab.research.google.com/github/alepedraza3760/my-first-binder/blob/main/RegLinealSimple.ipynb\" target=\"_parent\"><img src=\"https://colab.research.google.com/assets/colab-badge.svg\" alt=\"Open In Colab\"/></a>"
      ]
    },
    {
      "cell_type": "code",
      "source": [
        "import numpy as np\n",
        "import pandas as pd"
      ],
      "metadata": {
        "trusted": true,
        "tags": [],
        "id": "e20f4f51-1e89-4f74-a388-8c6dff775ecc"
      },
      "execution_count": 1,
      "outputs": [],
      "id": "e20f4f51-1e89-4f74-a388-8c6dff775ecc"
    },
    {
      "cell_type": "code",
      "source": [
        "print(\"Hola mundo, otra vez\")"
      ],
      "metadata": {
        "trusted": true,
        "tags": [],
        "colab": {
          "base_uri": "https://localhost:8080/"
        },
        "id": "954da8eb-ccfb-49f6-9b98-90966510209c",
        "outputId": "6d2653bd-ec28-4a9d-8526-b2e42df1cd93"
      },
      "execution_count": 6,
      "outputs": [
        {
          "output_type": "stream",
          "name": "stdout",
          "text": [
            "Hola mundo, otra vez\n"
          ]
        }
      ],
      "id": "954da8eb-ccfb-49f6-9b98-90966510209c"
    },
    {
      "cell_type": "code",
      "source": [
        "import matplotlib.pyplot as plt"
      ],
      "metadata": {
        "trusted": true,
        "tags": [],
        "id": "5ef95944-d66e-4f26-b1d3-2e898969a44c"
      },
      "execution_count": 5,
      "outputs": [],
      "id": "5ef95944-d66e-4f26-b1d3-2e898969a44c"
    },
    {
      "cell_type": "code",
      "source": [
        "from google.colab import drive\n",
        "drive.mount('/content/drive')"
      ],
      "metadata": {
        "colab": {
          "base_uri": "https://localhost:8080/"
        },
        "id": "vzLhniaKUi5f",
        "outputId": "d30526cd-b247-42b2-8d1a-cb306c5c63e7"
      },
      "id": "vzLhniaKUi5f",
      "execution_count": 7,
      "outputs": [
        {
          "output_type": "stream",
          "name": "stdout",
          "text": [
            "Mounted at /content/drive\n"
          ]
        }
      ]
    },
    {
      "cell_type": "code",
      "source": [],
      "metadata": {
        "id": "78010c1a-04b6-438f-abe3-f2b4261b761d"
      },
      "execution_count": null,
      "outputs": [],
      "id": "78010c1a-04b6-438f-abe3-f2b4261b761d"
    }
  ]
}